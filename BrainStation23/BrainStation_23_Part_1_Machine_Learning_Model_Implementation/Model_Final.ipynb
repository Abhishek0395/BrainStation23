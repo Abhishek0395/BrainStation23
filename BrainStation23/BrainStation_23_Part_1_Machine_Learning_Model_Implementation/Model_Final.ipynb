{
 "cells": [
  {
   "cell_type": "markdown",
   "id": "0c35616d",
   "metadata": {},
   "source": [
    "## Implementation of Decision Tree"
   ]
  },
  {
   "cell_type": "code",
   "execution_count": 1,
   "id": "c581d79b",
   "metadata": {
    "execution": {
     "iopub.execute_input": "2024-03-17T19:11:50.720742Z",
     "iopub.status.busy": "2024-03-17T19:11:50.720002Z",
     "iopub.status.idle": "2024-03-17T19:11:51.356149Z",
     "shell.execute_reply": "2024-03-17T19:11:51.354985Z",
     "shell.execute_reply.started": "2024-03-17T19:11:50.720699Z"
    }
   },
   "outputs": [],
   "source": [
    "import numpy as np\n",
    "from scipy import stats\n",
    "from sklearn.metrics import r2_score, accuracy_score\n",
    "\n",
    "\n",
    "class DecisionNode:\n",
    "    def __init__(self, col, split, lchild, rchild):\n",
    "        self.col = col\n",
    "        self.split = split\n",
    "        self.lchild = lchild\n",
    "        self.rchild = rchild\n",
    "\n",
    "    def predict(self, x_test):\n",
    "        # Make decision based upon x_test[col] and split\n",
    "        return (\n",
    "            self.lchild.predict(x_test)\n",
    "            if x_test[self.col] < self.split\n",
    "            else self.rchild.predict(x_test)\n",
    "        )\n",
    "\n",
    "    def leaf(self, x_test):\n",
    "        \"\"\"\n",
    "        Given a single test record, x_test, return the leaf node reached\n",
    "        by running it down the tree starting at this node.\n",
    "        This is just like prediction, except we return the decision tree\n",
    "        leaf rather than the prediction from that leaf.\n",
    "        \"\"\"\n",
    "        return (\n",
    "            self.lchild.leaf(x_test)\n",
    "            if x_test[self.col] < self.split\n",
    "            else self.rchild.leaf(x_test)\n",
    "        )\n",
    "\n",
    "\n",
    "class LeafNode:\n",
    "    def __init__(self, y, prediction):\n",
    "        \"Create leaf node from y values and prediction; prediction is mean(y) or mode(y)\"\n",
    "        self.y = y\n",
    "        self.n = len(y)\n",
    "        self.prediction = prediction\n",
    "\n",
    "    def predict(self, x_test):\n",
    "        # return prediction\n",
    "        return self.prediction\n",
    "\n",
    "    def leaf(self, x_test):\n",
    "        \"\"\"\n",
    "        Return itself.\n",
    "        \"\"\"\n",
    "        return self\n",
    "\n",
    "\n",
    "def gini(x):\n",
    "    \"\"\"\n",
    "    Return the gini impurity score for values in y\n",
    "    Assume y = {0,1}\n",
    "    Gini = 1 - sum_i p_i^2 where p_i is the proportion of class i in y\n",
    "    \"\"\"\n",
    "    _, class_counts = np.unique(x, return_counts=True)\n",
    "    n = np.sum(class_counts)\n",
    "\n",
    "    return 1 - np.sum((class_counts / n) ** 2)\n",
    "\n",
    "\n",
    "def find_best_split(X, y, loss, min_samples_leaf, max_features):\n",
    "\n",
    "    # case when this node cannot be further split\n",
    "    if len(X) <= min_samples_leaf or len(np.unique(X)) == 1:\n",
    "        return -1, -1\n",
    "\n",
    "    # record current feature, split and loss\n",
    "    best_loss = (-1, -1, loss(y))\n",
    "\n",
    "    k = 11\n",
    "    for i in np.random.choice(\n",
    "        np.arange(X.shape[1]), size=int(max_features * X.shape[1]), replace=False\n",
    "    ):\n",
    "        # randomly pick k values\n",
    "        idx_splits = np.random.choice(np.arange(len(X)), size=k)\n",
    "        candidates = X[idx_splits, i].copy()\n",
    "        for split in np.unique(candidates):\n",
    "            yl = y[X[:, i] < split]\n",
    "            yr = y[X[:, i] >= split]\n",
    "\n",
    "            if len(yl) <= min_samples_leaf or len(yr) <= min_samples_leaf:\n",
    "                continue\n",
    "\n",
    "            total_loss = (len(yl) * loss(yl) + len(yr) *\n",
    "                          loss(yr)) / (len(yl) + len(yr))\n",
    "            if total_loss == 0:\n",
    "                return i, split\n",
    "\n",
    "            if total_loss < best_loss[-1]:\n",
    "                best_loss = (i, split, total_loss)\n",
    "\n",
    "    return best_loss[:-1]\n",
    "\n",
    "\n",
    "class DecisionTree621:\n",
    "    def __init__(self, max_features, min_samples_leaf=1, loss=None):\n",
    "        self.max_features = max_features\n",
    "        self.min_samples_leaf = min_samples_leaf\n",
    "        self.loss = loss  # loss function; either np.var for regression or gini for classification\n",
    "\n",
    "    def fit(self, X, y):\n",
    "        \"\"\"\n",
    "        Create a decision tree fit to (X,y) and save as self.root, the root of\n",
    "        our decision tree, for  either a classifier or regression.  Leaf nodes for classifiers\n",
    "        predict the most common class (the mode) and regressions predict the average y\n",
    "        for observations in that leaf.\n",
    "\n",
    "        This function is a wrapper around fit_() that just stores the tree in self.root.\n",
    "        \"\"\"\n",
    "        self.root = self.fit_(X, y)\n",
    "\n",
    "    def fit_(self, X, y):\n",
    "        \"\"\"\n",
    "        Recursively create and return a decision tree fit to (X,y) for\n",
    "        either a classification or regression.  This function should call self.create_leaf(X,y)\n",
    "        to create the appropriate leaf node, which will invoke either\n",
    "        RegressionTree621.create_leaf() or ClassifierTree621.create_leaf() depending\n",
    "        on the type of self.\n",
    "\n",
    "        This function is not part of the class \"interface\" and is for internal use, but it\n",
    "        embodies the decision tree fitting algorithm.\n",
    "\n",
    "        (Make sure to call fit_() not fit() recursively.)\n",
    "        \"\"\"\n",
    "        col, split = find_best_split(\n",
    "            X, y, self.loss, self.min_samples_leaf, self.max_features\n",
    "        )\n",
    "        # terminating condition\n",
    "        if col == -1:\n",
    "            return self.create_leaf(y)\n",
    "\n",
    "        XL, yl = X[X[:, col] < split].copy(), y[X[:, col] < split].copy()\n",
    "        XR, yr = X[X[:, col] >= split].copy(), y[X[:, col] >= split].copy()\n",
    "        lchild = self.fit_(XL, yl)\n",
    "        rchild = self.fit_(XR, yr)\n",
    "\n",
    "        return DecisionNode(col, split, lchild, rchild)\n",
    "\n",
    "    def predict(self, X_test):\n",
    "        \"\"\"\n",
    "        Make a prediction for each record in X_test and return as array.\n",
    "        This method is inherited by RegressionTree621 and ClassifierTree621 and\n",
    "        works for both without modification!\n",
    "        \"\"\"\n",
    "        return np.array([self.root.predict(x_test) for x_test in X_test])\n",
    "\n",
    "\n",
    "class RegressionTree621(DecisionTree621):\n",
    "    def __init__(self, max_features, min_samples_leaf=1):\n",
    "        super().__init__(max_features, min_samples_leaf, loss=np.var)\n",
    "\n",
    "    def score(self, X_test, y_test):\n",
    "        \"Return the R^2 of y_test vs predictions for each record in X_test\"\n",
    "        return r2_score(y_test, self.predict(X_test))\n",
    "\n",
    "    def create_leaf(self, y):\n",
    "        \"\"\"\n",
    "        Return a new LeafNode for regression, passing y and mean(y) to\n",
    "        the LeafNode constructor.\n",
    "        \"\"\"\n",
    "        return LeafNode(y, np.mean(y))\n",
    "\n",
    "\n",
    "class ClassifierTree621(DecisionTree621):\n",
    "    def __init__(self, max_features, min_samples_leaf=1):\n",
    "        super().__init__(max_features, min_samples_leaf, loss=gini)\n",
    "\n",
    "    def score(self, X_test, y_test):\n",
    "        \"Return the accuracy_score() of y_test vs predictions for each record in X_test\"\n",
    "        return accuracy_score(y_test, self.predict(X_test))\n",
    "\n",
    "    def create_leaf(self, y):\n",
    "        \"\"\"\n",
    "        Return a new LeafNode for classification, passing y and mode(y) to\n",
    "        the LeafNode constructor. Feel free to use scipy.stats to use the mode function.\n",
    "        \"\"\"\n",
    "        return LeafNode(y, stats.mode(y)[0][0])\n"
   ]
  },
  {
   "cell_type": "markdown",
   "id": "5784f11e",
   "metadata": {},
   "source": [
    "## Implementation of RandomForest"
   ]
  },
  {
   "cell_type": "code",
   "execution_count": 2,
   "id": "846c218c",
   "metadata": {
    "execution": {
     "iopub.execute_input": "2024-03-17T19:11:51.535997Z",
     "iopub.status.busy": "2024-03-17T19:11:51.535492Z",
     "iopub.status.idle": "2024-03-17T19:11:51.570699Z",
     "shell.execute_reply": "2024-03-17T19:11:51.569392Z",
     "shell.execute_reply.started": "2024-03-17T19:11:51.535966Z"
    }
   },
   "outputs": [],
   "source": [
    "import numpy as np\n",
    "from sklearn.utils import resample\n",
    "\n",
    "class RandomForestRegressor621:\n",
    "    def __init__(\n",
    "        self, n_estimators=10, min_samples_leaf=3, max_features=0.3, oob_score=False\n",
    "    ):\n",
    "        # super().__init__(n_estimators, oob_score=oob_score)\n",
    "        self.n_estimators = n_estimators\n",
    "        self.min_samples_leaf = min_samples_leaf\n",
    "        self.max_features = max_features\n",
    "        self.oob_score = oob_score\n",
    "        self.oob_score_ = np.nan\n",
    "        # each tree is represented by a tuple of (tree object, OOB index)\n",
    "        self.trees = []\n",
    "\n",
    "    def fit(self, X, y):\n",
    "        \"\"\"\n",
    "        Given an (X, y) training set, fit all n_estimators trees to different,\n",
    "        bootstrapped versions of the training data.  Keep track of the indices of\n",
    "        the OOB records for each tree.  After fitting all of the trees in the forest,\n",
    "        compute the OOB validation score estimate and store as self.oob_score_, to\n",
    "        mimic sklearn.\n",
    "        \"\"\"\n",
    "        for _ in range(self.n_estimators):\n",
    "            bootstrapped_index = resample(range(len(X)), replace=True)\n",
    "            oob_index = set(range(len(X))).difference(set(bootstrapped_index))\n",
    "\n",
    "            X_bts, y_bts = X[bootstrapped_index].copy(\n",
    "            ), y[bootstrapped_index].copy()\n",
    "            tree = RegressionTree621(self.max_features, self.min_samples_leaf)\n",
    "            tree.fit(X_bts, y_bts)\n",
    "\n",
    "            self.trees.append((tree, oob_index))\n",
    "\n",
    "        if self.oob_score:\n",
    "            preds = []\n",
    "            y_true = []\n",
    "            for i, obs in enumerate(zip(X, y)):\n",
    "                x_obs, y_obs = obs\n",
    "                leaves = [\n",
    "                    tree.root.leaf(x_obs)\n",
    "                    for tree, oob_index in self.trees\n",
    "                    if i in oob_index\n",
    "                ]\n",
    "                if leaves:\n",
    "                    y_pred = np.sum(\n",
    "                        [leaf.n * leaf.prediction for leaf in leaves]\n",
    "                    ) / np.sum([leaf.n for leaf in leaves])\n",
    "                    preds.append(y_pred)\n",
    "                    y_true.append(y_obs)\n",
    "\n",
    "            self.oob_score_ = r2_score(y_true, preds)\n",
    "\n",
    "    def predict(self, X_test) -> np.ndarray:\n",
    "        \"\"\"\n",
    "        Given a 2D nxp array with one or more records, compute the weighted average\n",
    "        prediction from all trees in this forest. Weight each trees prediction by\n",
    "        the number of observations in the leaf making that prediction.  Return a 1D vector\n",
    "        with the predictions for each input record of X_test.\n",
    "        \"\"\"\n",
    "        preds = np.zeros(X_test.shape[0])\n",
    "        for i, x_test in enumerate(X_test):\n",
    "            leaves = [tree.root.leaf(x_test) for tree, _ in self.trees]\n",
    "            y_pred = np.sum([leaf.n * leaf.prediction for leaf in leaves]) / np.sum(\n",
    "                [leaf.n for leaf in leaves]\n",
    "            )\n",
    "            preds[i] = y_pred\n",
    "\n",
    "        return preds\n",
    "\n",
    "    def score(self, X_test, y_test) -> float:\n",
    "        \"\"\"\n",
    "        Given a 2D nxp X_test array and 1D nx1 y_test array with one or more records,\n",
    "        collect the prediction for each record and then compute R^2 on that and y_test.\n",
    "        \"\"\"\n",
    "        return r2_score(y_test, self.predict(X_test))\n",
    "\n",
    "\n",
    "class RandomForestClassifier621:\n",
    "    def __init__(\n",
    "        self, n_estimators=10, min_samples_leaf=3, max_features=0.3, oob_score=False\n",
    "    ):\n",
    "        # super().__init__(n_estimators, oob_score=oob_score)\n",
    "        self.n_estimators = n_estimators\n",
    "        self.min_samples_leaf = min_samples_leaf\n",
    "        self.max_features = max_features\n",
    "        self.oob_score = oob_score\n",
    "        self.oob_score_ = np.nan\n",
    "        # each tree is represented by a tuple of (tree object, OOB index)\n",
    "        self.trees = []\n",
    "        self.n_classes = 0\n",
    "\n",
    "    def fit(self, X, y):\n",
    "        \"\"\"\n",
    "        Given an (X, y) training set, fit all n_estimators trees to different,\n",
    "        bootstrapped versions of the training data.  Keep track of the indices of\n",
    "        the OOB records for each tree.  After fitting all of the trees in the forest,\n",
    "        compute the OOB validation score estimate and store as self.oob_score_, to\n",
    "        mimic sklearn.\n",
    "        \"\"\"\n",
    "        self.n_classes = len(np.unique(y))\n",
    "        for _ in range(self.n_estimators):\n",
    "            bootstrapped_index = resample(range(len(X)), replace=True)\n",
    "            oob_index = set(range(len(X))).difference(set(bootstrapped_index))\n",
    "\n",
    "            X_bts, y_bts = X[bootstrapped_index].copy(\n",
    "            ), y[bootstrapped_index].copy()\n",
    "            tree = ClassifierTree621(self.max_features, self.min_samples_leaf)\n",
    "            tree.fit(X_bts, y_bts)\n",
    "\n",
    "            self.trees.append((tree, oob_index))\n",
    "\n",
    "        if self.oob_score:\n",
    "            preds = []\n",
    "            y_true = []\n",
    "            for i, obs in enumerate(zip(X, y)):\n",
    "                x_obs, y_obs = obs\n",
    "                leaves = [\n",
    "                    tree.root.leaf(x_obs)\n",
    "                    for tree, oob_index in self.trees\n",
    "                    if i in oob_index\n",
    "                ]\n",
    "                if leaves:\n",
    "                    class_count = np.zeros(self.n_classes, dtype=np.int64)\n",
    "                    for leaf in leaves:\n",
    "                        class_, counts = np.unique(leaf.y, return_counts=True)\n",
    "                        for k, v in zip(class_, counts):\n",
    "                            class_count[k] += v\n",
    "\n",
    "                    y_pred = np.argmax(class_count)\n",
    "                    preds.append(y_pred)\n",
    "                    y_true.append(y_obs)\n",
    "\n",
    "            self.oob_score_ = accuracy_score(y_true, preds)\n",
    "\n",
    "    def predict(self, X_test) -> np.ndarray:\n",
    "        \"\"\"\n",
    "        Given a 2D nxp array with one or more records, compute the weighted average\n",
    "        prediction from all trees in this forest. Weight each trees prediction by\n",
    "        the number of observations in the leaf making that prediction.  Return a 1D vector\n",
    "        with the predictions for each input record of X_test.\n",
    "        \"\"\"\n",
    "        preds = np.zeros(X_test.shape[0])\n",
    "        for i, x_test in enumerate(X_test):\n",
    "            leaves = [tree.root.leaf(x_test) for tree, _ in self.trees]\n",
    "            class_count = np.zeros(self.n_classes, dtype=np.int64)\n",
    "            for leaf in leaves:\n",
    "                class_, counts = np.unique(leaf.y, return_counts=True)\n",
    "                for k, v in zip(class_, counts):\n",
    "                    class_count[k] += v\n",
    "\n",
    "            y_pred = np.argmax(class_count)\n",
    "            preds[i] = y_pred\n",
    "\n",
    "        return preds\n",
    "\n",
    "    def score(self, X_test, y_test) -> float:\n",
    "        \"\"\"\n",
    "        Given a 2D nxp X_test array and 1D nx1 y_test array with one or more records,\n",
    "        collect the prediction for each record and then compute R^2 on that and y_test.\n",
    "        \"\"\"\n",
    "        return accuracy_score(y_test, self.predict(X_test))\n"
   ]
  },
  {
   "cell_type": "markdown",
   "id": "a1bfc60e",
   "metadata": {},
   "source": [
    "## Doing Preprocessing. Here I am converting the 'InvoiceDate' column to datetime . However in my notebook it shows error if I use (format='mixed'). So I have not used this. But in other devices or platforms it is advised to use format='mixed'. I have commented it."
   ]
  },
  {
   "cell_type": "code",
   "execution_count": 3,
   "id": "20899454",
   "metadata": {
    "execution": {
     "iopub.execute_input": "2024-03-17T19:12:12.443226Z",
     "iopub.status.busy": "2024-03-17T19:12:12.442405Z",
     "iopub.status.idle": "2024-03-17T19:12:17.572619Z",
     "shell.execute_reply": "2024-03-17T19:12:17.571322Z",
     "shell.execute_reply.started": "2024-03-17T19:12:12.443183Z"
    }
   },
   "outputs": [],
   "source": [
    "import pandas as pd\n",
    "import matplotlib.pyplot as plt\n",
    "import seaborn as sns\n",
    "import numpy as np\n",
    "from datetime import datetime\n",
    "\n",
    "\n",
    "    \n",
    "#df = pd.read_csv(\"/kaggle/input/tata-online-retail-dataset/Online Retail Data Set.csv\",encoding='unicode_escape')\n",
    "#print(df.head())\n",
    "df = pd.read_csv(\"C:\\\\Users\\\\hp\\\\Desktop\\\\Online_Retail_Data_Set.csv\",encoding='unicode_escape')\n",
    "df = df.drop_duplicates()\n",
    "df['Description'] = df['Description'].fillna(\"Unknown\")\n",
    "df= df.dropna()\n",
    "#df['InvoiceDate'] = pd.to_datetime(df['InvoiceDate'],format='mixed')\n",
    "df['InvoiceDate'] = pd.to_datetime(df['InvoiceDate'])\n",
    "df=df[df['UnitPrice'] > 0]\n",
    "df=df[df['Quantity'] > 0]\n",
    "df['Hour'] = df['InvoiceDate'].dt.hour\n",
    "df['Month'] = df['InvoiceDate'].dt.month_name()\n",
    "df['Day'] = df['InvoiceDate'].dt.day_name()\n",
    "df['Year']= df['InvoiceDate'].dt.year\n",
    "df=df[~df['Description'].str.contains('Adjust bad debt',case=False)]\n"
   ]
  },
  {
   "cell_type": "markdown",
   "id": "6350a215",
   "metadata": {},
   "source": [
    "## Removing Outliers"
   ]
  },
  {
   "cell_type": "code",
   "execution_count": 4,
   "id": "35311571",
   "metadata": {
    "execution": {
     "iopub.execute_input": "2024-03-17T19:12:18.973932Z",
     "iopub.status.busy": "2024-03-17T19:12:18.973456Z",
     "iopub.status.idle": "2024-03-17T19:12:18.982805Z",
     "shell.execute_reply": "2024-03-17T19:12:18.981285Z",
     "shell.execute_reply.started": "2024-03-17T19:12:18.973897Z"
    }
   },
   "outputs": [],
   "source": [
    "def remove_outlier(df, col):\n",
    "    Q1 = df[col].quantile(0.25)\n",
    "    Q3 = df[col].quantile(0.75)\n",
    "    IQR = Q3 - Q1\n",
    "    lower = Q1 - 1.5*IQR\n",
    "    upper = Q3 + 1.5*IQR\n",
    "\n",
    "    # Create arrays of Boolean values indicating the outlier rows\n",
    "    idx = df[(df[col] >= upper) | (df[col] <= lower)].index\n",
    "    df.drop(idx , inplace=True)"
   ]
  },
  {
   "cell_type": "markdown",
   "id": "f6675dbf",
   "metadata": {},
   "source": [
    "## Creating target variable sales by combining Quantity and Unit Price and dropping them because of high correlation and also dropping InvoiceDate because it is parsed and dropping year as it has 2 values."
   ]
  },
  {
   "cell_type": "code",
   "execution_count": 5,
   "id": "63ac3a35",
   "metadata": {
    "execution": {
     "iopub.execute_input": "2024-03-17T19:12:19.152611Z",
     "iopub.status.busy": "2024-03-17T19:12:19.151717Z",
     "iopub.status.idle": "2024-03-17T19:12:19.425360Z",
     "shell.execute_reply": "2024-03-17T19:12:19.424380Z",
     "shell.execute_reply.started": "2024-03-17T19:12:19.152569Z"
    }
   },
   "outputs": [
    {
     "name": "stdout",
     "output_type": "stream",
     "text": [
      "  InvoiceNo StockCode                          Description  CustomerID  \\\n",
      "0    536365    85123A   WHITE HANGING HEART T-LIGHT HOLDER     17850.0   \n",
      "1    536365     71053                  WHITE METAL LANTERN     17850.0   \n",
      "2    536365    84406B       CREAM CUPID HEARTS COAT HANGER     17850.0   \n",
      "3    536365    84029G  KNITTED UNION FLAG HOT WATER BOTTLE     17850.0   \n",
      "4    536365    84029E       RED WOOLLY HOTTIE WHITE HEART.     17850.0   \n",
      "\n",
      "          Country  Hour    Month      Day  Total  \n",
      "0  United Kingdom     8  January  Tuesday  15.30  \n",
      "1  United Kingdom     8  January  Tuesday  20.34  \n",
      "2  United Kingdom     8  January  Tuesday  22.00  \n",
      "3  United Kingdom     8  January  Tuesday  20.34  \n",
      "4  United Kingdom     8  January  Tuesday  20.34  \n"
     ]
    }
   ],
   "source": [
    "remove_outlier(df, 'Quantity')\n",
    "remove_outlier(df, 'UnitPrice')\n",
    "df['Total'] = df['Quantity']*df['UnitPrice']\n",
    "df.drop(['Quantity','UnitPrice'],axis=1,inplace=True)\n",
    "df.drop(['InvoiceDate','Year',],axis=1,inplace=True)\n",
    "print(df.head())"
   ]
  },
  {
   "cell_type": "markdown",
   "id": "b3d001e6",
   "metadata": {},
   "source": [
    "## Dropping InvoiceNo because it has high number of unique values and little correlation"
   ]
  },
  {
   "cell_type": "code",
   "execution_count": 6,
   "id": "bf49f111",
   "metadata": {
    "execution": {
     "iopub.execute_input": "2024-03-17T19:12:19.625140Z",
     "iopub.status.busy": "2024-03-17T19:12:19.624385Z",
     "iopub.status.idle": "2024-03-17T19:12:19.695692Z",
     "shell.execute_reply": "2024-03-17T19:12:19.694375Z",
     "shell.execute_reply.started": "2024-03-17T19:12:19.625092Z"
    }
   },
   "outputs": [
    {
     "name": "stdout",
     "output_type": "stream",
     "text": [
      "16820\n"
     ]
    }
   ],
   "source": [
    "print(len(df['InvoiceNo'].unique()))\n",
    "df.drop(['InvoiceNo'],axis=1,inplace=True)"
   ]
  },
  {
   "cell_type": "markdown",
   "id": "3c2a4f49",
   "metadata": {},
   "source": [
    "## Dropping StockCode because it has high number of unique values and little correlation"
   ]
  },
  {
   "cell_type": "code",
   "execution_count": 7,
   "id": "533272c3",
   "metadata": {
    "execution": {
     "iopub.execute_input": "2024-03-17T19:12:19.882879Z",
     "iopub.status.busy": "2024-03-17T19:12:19.882485Z",
     "iopub.status.idle": "2024-03-17T19:12:19.955160Z",
     "shell.execute_reply": "2024-03-17T19:12:19.954019Z",
     "shell.execute_reply.started": "2024-03-17T19:12:19.882849Z"
    }
   },
   "outputs": [
    {
     "name": "stdout",
     "output_type": "stream",
     "text": [
      "3374\n"
     ]
    }
   ],
   "source": [
    "print(len(df['StockCode'].unique()))\n",
    "df.drop(['StockCode'],axis=1,inplace=True)"
   ]
  },
  {
   "cell_type": "markdown",
   "id": "00636953",
   "metadata": {},
   "source": [
    "## Dropping CustomerID because it has high number of unique values and little correlation"
   ]
  },
  {
   "cell_type": "code",
   "execution_count": 8,
   "id": "f10e2bb6",
   "metadata": {
    "execution": {
     "iopub.execute_input": "2024-03-17T19:12:20.316857Z",
     "iopub.status.busy": "2024-03-17T19:12:20.315850Z",
     "iopub.status.idle": "2024-03-17T19:12:20.356476Z",
     "shell.execute_reply": "2024-03-17T19:12:20.355156Z",
     "shell.execute_reply.started": "2024-03-17T19:12:20.316818Z"
    }
   },
   "outputs": [
    {
     "name": "stdout",
     "output_type": "stream",
     "text": [
      "4190\n"
     ]
    }
   ],
   "source": [
    "print(len(df['CustomerID'].unique()))\n",
    "df.drop(['CustomerID'],axis=1,inplace=True)"
   ]
  },
  {
   "cell_type": "code",
   "execution_count": 9,
   "id": "ba84f73e",
   "metadata": {
    "execution": {
     "iopub.execute_input": "2024-03-17T19:12:20.593137Z",
     "iopub.status.busy": "2024-03-17T19:12:20.592736Z",
     "iopub.status.idle": "2024-03-17T19:12:20.613693Z",
     "shell.execute_reply": "2024-03-17T19:12:20.612448Z",
     "shell.execute_reply.started": "2024-03-17T19:12:20.593107Z"
    }
   },
   "outputs": [
    {
     "data": {
      "text/html": [
       "<div>\n",
       "<style scoped>\n",
       "    .dataframe tbody tr th:only-of-type {\n",
       "        vertical-align: middle;\n",
       "    }\n",
       "\n",
       "    .dataframe tbody tr th {\n",
       "        vertical-align: top;\n",
       "    }\n",
       "\n",
       "    .dataframe thead th {\n",
       "        text-align: right;\n",
       "    }\n",
       "</style>\n",
       "<table border=\"1\" class=\"dataframe\">\n",
       "  <thead>\n",
       "    <tr style=\"text-align: right;\">\n",
       "      <th></th>\n",
       "      <th>Description</th>\n",
       "      <th>Country</th>\n",
       "      <th>Hour</th>\n",
       "      <th>Month</th>\n",
       "      <th>Day</th>\n",
       "      <th>Total</th>\n",
       "    </tr>\n",
       "  </thead>\n",
       "  <tbody>\n",
       "    <tr>\n",
       "      <th>0</th>\n",
       "      <td>WHITE HANGING HEART T-LIGHT HOLDER</td>\n",
       "      <td>United Kingdom</td>\n",
       "      <td>8</td>\n",
       "      <td>January</td>\n",
       "      <td>Tuesday</td>\n",
       "      <td>15.30</td>\n",
       "    </tr>\n",
       "    <tr>\n",
       "      <th>1</th>\n",
       "      <td>WHITE METAL LANTERN</td>\n",
       "      <td>United Kingdom</td>\n",
       "      <td>8</td>\n",
       "      <td>January</td>\n",
       "      <td>Tuesday</td>\n",
       "      <td>20.34</td>\n",
       "    </tr>\n",
       "    <tr>\n",
       "      <th>2</th>\n",
       "      <td>CREAM CUPID HEARTS COAT HANGER</td>\n",
       "      <td>United Kingdom</td>\n",
       "      <td>8</td>\n",
       "      <td>January</td>\n",
       "      <td>Tuesday</td>\n",
       "      <td>22.00</td>\n",
       "    </tr>\n",
       "    <tr>\n",
       "      <th>3</th>\n",
       "      <td>KNITTED UNION FLAG HOT WATER BOTTLE</td>\n",
       "      <td>United Kingdom</td>\n",
       "      <td>8</td>\n",
       "      <td>January</td>\n",
       "      <td>Tuesday</td>\n",
       "      <td>20.34</td>\n",
       "    </tr>\n",
       "    <tr>\n",
       "      <th>4</th>\n",
       "      <td>RED WOOLLY HOTTIE WHITE HEART.</td>\n",
       "      <td>United Kingdom</td>\n",
       "      <td>8</td>\n",
       "      <td>January</td>\n",
       "      <td>Tuesday</td>\n",
       "      <td>20.34</td>\n",
       "    </tr>\n",
       "  </tbody>\n",
       "</table>\n",
       "</div>"
      ],
      "text/plain": [
       "                           Description         Country  Hour    Month  \\\n",
       "0   WHITE HANGING HEART T-LIGHT HOLDER  United Kingdom     8  January   \n",
       "1                  WHITE METAL LANTERN  United Kingdom     8  January   \n",
       "2       CREAM CUPID HEARTS COAT HANGER  United Kingdom     8  January   \n",
       "3  KNITTED UNION FLAG HOT WATER BOTTLE  United Kingdom     8  January   \n",
       "4       RED WOOLLY HOTTIE WHITE HEART.  United Kingdom     8  January   \n",
       "\n",
       "       Day  Total  \n",
       "0  Tuesday  15.30  \n",
       "1  Tuesday  20.34  \n",
       "2  Tuesday  22.00  \n",
       "3  Tuesday  20.34  \n",
       "4  Tuesday  20.34  "
      ]
     },
     "execution_count": 9,
     "metadata": {},
     "output_type": "execute_result"
    }
   ],
   "source": [
    "df.head()"
   ]
  },
  {
   "cell_type": "markdown",
   "id": "3f2dbef3",
   "metadata": {},
   "source": [
    "## Dropping Country as United Kingdom has 90% of the values."
   ]
  },
  {
   "cell_type": "code",
   "execution_count": 10,
   "id": "3378711e",
   "metadata": {
    "execution": {
     "iopub.execute_input": "2024-03-17T19:12:20.942507Z",
     "iopub.status.busy": "2024-03-17T19:12:20.942028Z",
     "iopub.status.idle": "2024-03-17T19:12:21.033429Z",
     "shell.execute_reply": "2024-03-17T19:12:21.031809Z",
     "shell.execute_reply.started": "2024-03-17T19:12:20.942472Z"
    }
   },
   "outputs": [
    {
     "name": "stdout",
     "output_type": "stream",
     "text": [
      "United Kingdom          299728\n",
      "Germany                   7437\n",
      "France                    6881\n",
      "EIRE                      5422\n",
      "Spain                     2038\n",
      "Belgium                   1657\n",
      "Switzerland               1432\n",
      "Portugal                  1252\n",
      "Norway                     767\n",
      "Netherlands                609\n",
      "Italy                      603\n",
      "Channel Islands            542\n",
      "Finland                    518\n",
      "Australia                  510\n",
      "Cyprus                     475\n",
      "Austria                    343\n",
      "Denmark                    297\n",
      "Poland                     253\n",
      "Sweden                     249\n",
      "Unspecified                210\n",
      "Israel                     188\n",
      "Iceland                    166\n",
      "USA                        160\n",
      "Singapore                  150\n",
      "Canada                     126\n",
      "Greece                     125\n",
      "Japan                      110\n",
      "Malta                       91\n",
      "United Arab Emirates        58\n",
      "European Community          47\n",
      "RSA                         45\n",
      "Lebanon                     33\n",
      "Lithuania                   29\n",
      "Brazil                      25\n",
      "Czech Republic              18\n",
      "Bahrain                     11\n",
      "Saudi Arabia                 9\n",
      "Name: Country, dtype: int64\n"
     ]
    }
   ],
   "source": [
    "print(df['Country'].value_counts())\n",
    "df.drop(['Country'],axis=1,inplace=True)"
   ]
  },
  {
   "cell_type": "markdown",
   "id": "1c0798ff",
   "metadata": {},
   "source": [
    "## Converting categorical variable Hour with get_dummies and dropping it"
   ]
  },
  {
   "cell_type": "code",
   "execution_count": 11,
   "id": "bb28bfc8",
   "metadata": {
    "execution": {
     "iopub.execute_input": "2024-03-17T19:12:21.331173Z",
     "iopub.status.busy": "2024-03-17T19:12:21.330671Z",
     "iopub.status.idle": "2024-03-17T19:12:21.391005Z",
     "shell.execute_reply": "2024-03-17T19:12:21.389329Z",
     "shell.execute_reply.started": "2024-03-17T19:12:21.331133Z"
    }
   },
   "outputs": [
    {
     "name": "stdout",
     "output_type": "stream",
     "text": [
      "   H_7  H_8  H_9  H_10  H_11  H_12  H_13  H_14  H_15  H_16  H_17  H_18  H_19  \\\n",
      "0    0    1    0     0     0     0     0     0     0     0     0     0     0   \n",
      "1    0    1    0     0     0     0     0     0     0     0     0     0     0   \n",
      "2    0    1    0     0     0     0     0     0     0     0     0     0     0   \n",
      "3    0    1    0     0     0     0     0     0     0     0     0     0     0   \n",
      "4    0    1    0     0     0     0     0     0     0     0     0     0     0   \n",
      "\n",
      "   H_20  \n",
      "0     0  \n",
      "1     0  \n",
      "2     0  \n",
      "3     0  \n",
      "4     0  \n",
      "                           Description  Hour    Month      Day  Total  H_7  \\\n",
      "0   WHITE HANGING HEART T-LIGHT HOLDER     8  January  Tuesday  15.30    0   \n",
      "1                  WHITE METAL LANTERN     8  January  Tuesday  20.34    0   \n",
      "2       CREAM CUPID HEARTS COAT HANGER     8  January  Tuesday  22.00    0   \n",
      "3  KNITTED UNION FLAG HOT WATER BOTTLE     8  January  Tuesday  20.34    0   \n",
      "4       RED WOOLLY HOTTIE WHITE HEART.     8  January  Tuesday  20.34    0   \n",
      "\n",
      "   H_8  H_9  H_10  H_11  H_12  H_13  H_14  H_15  H_16  H_17  H_18  H_19  H_20  \n",
      "0    1    0     0     0     0     0     0     0     0     0     0     0     0  \n",
      "1    1    0     0     0     0     0     0     0     0     0     0     0     0  \n",
      "2    1    0     0     0     0     0     0     0     0     0     0     0     0  \n",
      "3    1    0     0     0     0     0     0     0     0     0     0     0     0  \n",
      "4    1    0     0     0     0     0     0     0     0     0     0     0     0  \n"
     ]
    }
   ],
   "source": [
    "df['Hour'].value_counts()\n",
    "category_feature=pd.get_dummies(df['Hour'],prefix='H',prefix_sep='_',drop_first=True)\n",
    "print(category_feature.head())\n",
    "dfreal1=pd.concat([df,category_feature],axis=1)\n",
    "print(dfreal1.head())"
   ]
  },
  {
   "cell_type": "code",
   "execution_count": 12,
   "id": "52dd3b7b",
   "metadata": {
    "execution": {
     "iopub.execute_input": "2024-03-17T19:12:21.699082Z",
     "iopub.status.busy": "2024-03-17T19:12:21.698682Z",
     "iopub.status.idle": "2024-03-17T19:12:21.753199Z",
     "shell.execute_reply": "2024-03-17T19:12:21.751836Z",
     "shell.execute_reply.started": "2024-03-17T19:12:21.699050Z"
    }
   },
   "outputs": [
    {
     "name": "stdout",
     "output_type": "stream",
     "text": [
      "                           Description    Month      Day  Total  H_7  H_8  \\\n",
      "0   WHITE HANGING HEART T-LIGHT HOLDER  January  Tuesday  15.30    0    1   \n",
      "1                  WHITE METAL LANTERN  January  Tuesday  20.34    0    1   \n",
      "2       CREAM CUPID HEARTS COAT HANGER  January  Tuesday  22.00    0    1   \n",
      "3  KNITTED UNION FLAG HOT WATER BOTTLE  January  Tuesday  20.34    0    1   \n",
      "4       RED WOOLLY HOTTIE WHITE HEART.  January  Tuesday  20.34    0    1   \n",
      "\n",
      "   H_9  H_10  H_11  H_12  H_13  H_14  H_15  H_16  H_17  H_18  H_19  H_20  \n",
      "0    0     0     0     0     0     0     0     0     0     0     0     0  \n",
      "1    0     0     0     0     0     0     0     0     0     0     0     0  \n",
      "2    0     0     0     0     0     0     0     0     0     0     0     0  \n",
      "3    0     0     0     0     0     0     0     0     0     0     0     0  \n",
      "4    0     0     0     0     0     0     0     0     0     0     0     0  \n",
      "Index(['Description', 'Month', 'Day', 'Total', 'H_7', 'H_8', 'H_9', 'H_10',\n",
      "       'H_11', 'H_12', 'H_13', 'H_14', 'H_15', 'H_16', 'H_17', 'H_18', 'H_19',\n",
      "       'H_20'],\n",
      "      dtype='object')\n"
     ]
    }
   ],
   "source": [
    "dfreal1.head()\n",
    "dfreal2=dfreal1.drop(['Hour'],axis=1)\n",
    "print(dfreal2.head())\n",
    "df=dfreal2.copy()\n",
    "print(df.columns)"
   ]
  },
  {
   "cell_type": "markdown",
   "id": "738ddd9f",
   "metadata": {},
   "source": [
    "## Converting categorical variable Day with get_dummies and dropping it"
   ]
  },
  {
   "cell_type": "code",
   "execution_count": 13,
   "id": "aa46e790",
   "metadata": {
    "execution": {
     "iopub.execute_input": "2024-03-17T19:12:22.056657Z",
     "iopub.status.busy": "2024-03-17T19:12:22.056119Z",
     "iopub.status.idle": "2024-03-17T19:12:22.140395Z",
     "shell.execute_reply": "2024-03-17T19:12:22.139122Z",
     "shell.execute_reply.started": "2024-03-17T19:12:22.056607Z"
    }
   },
   "outputs": [
    {
     "name": "stdout",
     "output_type": "stream",
     "text": [
      "   D_Monday  D_Saturday  D_Sunday  D_Thursday  D_Tuesday  D_Wednesday\n",
      "0         0           0         0           0          1            0\n",
      "1         0           0         0           0          1            0\n",
      "2         0           0         0           0          1            0\n",
      "3         0           0         0           0          1            0\n",
      "4         0           0         0           0          1            0\n",
      "                           Description    Month      Day  Total  H_7  H_8  \\\n",
      "0   WHITE HANGING HEART T-LIGHT HOLDER  January  Tuesday  15.30    0    1   \n",
      "1                  WHITE METAL LANTERN  January  Tuesday  20.34    0    1   \n",
      "2       CREAM CUPID HEARTS COAT HANGER  January  Tuesday  22.00    0    1   \n",
      "3  KNITTED UNION FLAG HOT WATER BOTTLE  January  Tuesday  20.34    0    1   \n",
      "4       RED WOOLLY HOTTIE WHITE HEART.  January  Tuesday  20.34    0    1   \n",
      "\n",
      "   H_9  H_10  H_11  H_12  ...  H_17  H_18  H_19  H_20  D_Monday  D_Saturday  \\\n",
      "0    0     0     0     0  ...     0     0     0     0         0           0   \n",
      "1    0     0     0     0  ...     0     0     0     0         0           0   \n",
      "2    0     0     0     0  ...     0     0     0     0         0           0   \n",
      "3    0     0     0     0  ...     0     0     0     0         0           0   \n",
      "4    0     0     0     0  ...     0     0     0     0         0           0   \n",
      "\n",
      "   D_Sunday  D_Thursday  D_Tuesday  D_Wednesday  \n",
      "0         0           0          1            0  \n",
      "1         0           0          1            0  \n",
      "2         0           0          1            0  \n",
      "3         0           0          1            0  \n",
      "4         0           0          1            0  \n",
      "\n",
      "[5 rows x 24 columns]\n"
     ]
    }
   ],
   "source": [
    "\n",
    "category_feature=pd.get_dummies(df['Day'],prefix='D',prefix_sep='_',drop_first=True)\n",
    "print(category_feature.head())\n",
    "dfreal1=pd.concat([df,category_feature],axis=1)\n",
    "print(dfreal1.head())"
   ]
  },
  {
   "cell_type": "code",
   "execution_count": 14,
   "id": "61cf49fa",
   "metadata": {
    "execution": {
     "iopub.execute_input": "2024-03-17T19:12:22.534173Z",
     "iopub.status.busy": "2024-03-17T19:12:22.533748Z",
     "iopub.status.idle": "2024-03-17T19:12:22.604724Z",
     "shell.execute_reply": "2024-03-17T19:12:22.603178Z",
     "shell.execute_reply.started": "2024-03-17T19:12:22.534137Z"
    }
   },
   "outputs": [
    {
     "name": "stdout",
     "output_type": "stream",
     "text": [
      "                           Description    Month  Total  H_7  H_8  H_9  H_10  \\\n",
      "0   WHITE HANGING HEART T-LIGHT HOLDER  January  15.30    0    1    0     0   \n",
      "1                  WHITE METAL LANTERN  January  20.34    0    1    0     0   \n",
      "2       CREAM CUPID HEARTS COAT HANGER  January  22.00    0    1    0     0   \n",
      "3  KNITTED UNION FLAG HOT WATER BOTTLE  January  20.34    0    1    0     0   \n",
      "4       RED WOOLLY HOTTIE WHITE HEART.  January  20.34    0    1    0     0   \n",
      "\n",
      "   H_11  H_12  H_13  ...  H_17  H_18  H_19  H_20  D_Monday  D_Saturday  \\\n",
      "0     0     0     0  ...     0     0     0     0         0           0   \n",
      "1     0     0     0  ...     0     0     0     0         0           0   \n",
      "2     0     0     0  ...     0     0     0     0         0           0   \n",
      "3     0     0     0  ...     0     0     0     0         0           0   \n",
      "4     0     0     0  ...     0     0     0     0         0           0   \n",
      "\n",
      "   D_Sunday  D_Thursday  D_Tuesday  D_Wednesday  \n",
      "0         0           0          1            0  \n",
      "1         0           0          1            0  \n",
      "2         0           0          1            0  \n",
      "3         0           0          1            0  \n",
      "4         0           0          1            0  \n",
      "\n",
      "[5 rows x 23 columns]\n",
      "Index(['Description', 'Month', 'Total', 'H_7', 'H_8', 'H_9', 'H_10', 'H_11',\n",
      "       'H_12', 'H_13', 'H_14', 'H_15', 'H_16', 'H_17', 'H_18', 'H_19', 'H_20',\n",
      "       'D_Monday', 'D_Saturday', 'D_Sunday', 'D_Thursday', 'D_Tuesday',\n",
      "       'D_Wednesday'],\n",
      "      dtype='object')\n"
     ]
    }
   ],
   "source": [
    "dfreal1.head()\n",
    "dfreal2=dfreal1.drop(['Day'],axis=1)\n",
    "print(dfreal2.head())\n",
    "df=dfreal2.copy()\n",
    "print(df.columns)"
   ]
  },
  {
   "cell_type": "markdown",
   "id": "9033b0d9",
   "metadata": {},
   "source": [
    "## Converting categorical variable Month with get_dummies and dropping it"
   ]
  },
  {
   "cell_type": "code",
   "execution_count": 15,
   "id": "3020f561",
   "metadata": {
    "execution": {
     "iopub.execute_input": "2024-03-17T19:12:22.984361Z",
     "iopub.status.busy": "2024-03-17T19:12:22.983915Z",
     "iopub.status.idle": "2024-03-17T19:12:23.065067Z",
     "shell.execute_reply": "2024-03-17T19:12:23.063439Z",
     "shell.execute_reply.started": "2024-03-17T19:12:22.984325Z"
    }
   },
   "outputs": [
    {
     "name": "stdout",
     "output_type": "stream",
     "text": [
      "   M_August  M_December  M_February  M_January  M_July  M_June  M_March  \\\n",
      "0         0           0           0          1       0       0        0   \n",
      "1         0           0           0          1       0       0        0   \n",
      "2         0           0           0          1       0       0        0   \n",
      "3         0           0           0          1       0       0        0   \n",
      "4         0           0           0          1       0       0        0   \n",
      "\n",
      "   M_May  M_November  M_October  M_September  \n",
      "0      0           0          0            0  \n",
      "1      0           0          0            0  \n",
      "2      0           0          0            0  \n",
      "3      0           0          0            0  \n",
      "4      0           0          0            0  \n",
      "                           Description    Month  Total  H_7  H_8  H_9  H_10  \\\n",
      "0   WHITE HANGING HEART T-LIGHT HOLDER  January  15.30    0    1    0     0   \n",
      "1                  WHITE METAL LANTERN  January  20.34    0    1    0     0   \n",
      "2       CREAM CUPID HEARTS COAT HANGER  January  22.00    0    1    0     0   \n",
      "3  KNITTED UNION FLAG HOT WATER BOTTLE  January  20.34    0    1    0     0   \n",
      "4       RED WOOLLY HOTTIE WHITE HEART.  January  20.34    0    1    0     0   \n",
      "\n",
      "   H_11  H_12  H_13  ...  M_December  M_February  M_January  M_July  M_June  \\\n",
      "0     0     0     0  ...           0           0          1       0       0   \n",
      "1     0     0     0  ...           0           0          1       0       0   \n",
      "2     0     0     0  ...           0           0          1       0       0   \n",
      "3     0     0     0  ...           0           0          1       0       0   \n",
      "4     0     0     0  ...           0           0          1       0       0   \n",
      "\n",
      "   M_March  M_May  M_November  M_October  M_September  \n",
      "0        0      0           0          0            0  \n",
      "1        0      0           0          0            0  \n",
      "2        0      0           0          0            0  \n",
      "3        0      0           0          0            0  \n",
      "4        0      0           0          0            0  \n",
      "\n",
      "[5 rows x 34 columns]\n"
     ]
    }
   ],
   "source": [
    "category_feature=pd.get_dummies(df['Month'],prefix='M',prefix_sep='_',drop_first=True)\n",
    "print(category_feature.head())\n",
    "dfreal1=pd.concat([df,category_feature],axis=1)\n",
    "print(dfreal1.head())"
   ]
  },
  {
   "cell_type": "code",
   "execution_count": 16,
   "id": "ef94a606",
   "metadata": {
    "execution": {
     "iopub.execute_input": "2024-03-17T19:12:23.419956Z",
     "iopub.status.busy": "2024-03-17T19:12:23.419557Z",
     "iopub.status.idle": "2024-03-17T19:12:23.484839Z",
     "shell.execute_reply": "2024-03-17T19:12:23.483313Z",
     "shell.execute_reply.started": "2024-03-17T19:12:23.419916Z"
    }
   },
   "outputs": [
    {
     "name": "stdout",
     "output_type": "stream",
     "text": [
      "                           Description  Total  H_7  H_8  H_9  H_10  H_11  \\\n",
      "0   WHITE HANGING HEART T-LIGHT HOLDER  15.30    0    1    0     0     0   \n",
      "1                  WHITE METAL LANTERN  20.34    0    1    0     0     0   \n",
      "2       CREAM CUPID HEARTS COAT HANGER  22.00    0    1    0     0     0   \n",
      "3  KNITTED UNION FLAG HOT WATER BOTTLE  20.34    0    1    0     0     0   \n",
      "4       RED WOOLLY HOTTIE WHITE HEART.  20.34    0    1    0     0     0   \n",
      "\n",
      "   H_12  H_13  H_14  ...  M_December  M_February  M_January  M_July  M_June  \\\n",
      "0     0     0     0  ...           0           0          1       0       0   \n",
      "1     0     0     0  ...           0           0          1       0       0   \n",
      "2     0     0     0  ...           0           0          1       0       0   \n",
      "3     0     0     0  ...           0           0          1       0       0   \n",
      "4     0     0     0  ...           0           0          1       0       0   \n",
      "\n",
      "   M_March  M_May  M_November  M_October  M_September  \n",
      "0        0      0           0          0            0  \n",
      "1        0      0           0          0            0  \n",
      "2        0      0           0          0            0  \n",
      "3        0      0           0          0            0  \n",
      "4        0      0           0          0            0  \n",
      "\n",
      "[5 rows x 33 columns]\n",
      "Index(['Description', 'Total', 'H_7', 'H_8', 'H_9', 'H_10', 'H_11', 'H_12',\n",
      "       'H_13', 'H_14', 'H_15', 'H_16', 'H_17', 'H_18', 'H_19', 'H_20',\n",
      "       'D_Monday', 'D_Saturday', 'D_Sunday', 'D_Thursday', 'D_Tuesday',\n",
      "       'D_Wednesday', 'M_August', 'M_December', 'M_February', 'M_January',\n",
      "       'M_July', 'M_June', 'M_March', 'M_May', 'M_November', 'M_October',\n",
      "       'M_September'],\n",
      "      dtype='object')\n"
     ]
    }
   ],
   "source": [
    "dfreal1.head()\n",
    "dfreal2=dfreal1.drop(['Month'],axis=1)\n",
    "print(dfreal2.head())\n",
    "df=dfreal2.copy()\n",
    "print(df.columns)"
   ]
  },
  {
   "cell_type": "markdown",
   "id": "83401628",
   "metadata": {},
   "source": [
    "## Converting categorical variable Description with get_dummies and dropping it"
   ]
  },
  {
   "cell_type": "code",
   "execution_count": 17,
   "id": "717e76bb",
   "metadata": {
    "execution": {
     "iopub.execute_input": "2024-03-17T19:12:24.191320Z",
     "iopub.status.busy": "2024-03-17T19:12:24.190873Z",
     "iopub.status.idle": "2024-03-17T19:12:26.081526Z",
     "shell.execute_reply": "2024-03-17T19:12:26.080294Z",
     "shell.execute_reply.started": "2024-03-17T19:12:24.191282Z"
    }
   },
   "outputs": [
    {
     "name": "stdout",
     "output_type": "stream",
     "text": [
      "   Des_ 50'S CHRISTMAS GIFT BAG LARGE  Des_ DOLLY GIRL BEAKER  \\\n",
      "0                                   0                       0   \n",
      "1                                   0                       0   \n",
      "2                                   0                       0   \n",
      "3                                   0                       0   \n",
      "4                                   0                       0   \n",
      "\n",
      "   Des_ I LOVE LONDON MINI BACKPACK  Des_ I LOVE LONDON MINI RUCKSACK  \\\n",
      "0                                 0                                 0   \n",
      "1                                 0                                 0   \n",
      "2                                 0                                 0   \n",
      "3                                 0                                 0   \n",
      "4                                 0                                 0   \n",
      "\n",
      "   Des_ OVAL WALL MIRROR DIAMANTE   Des_ RED SPOT GIFT BAG LARGE  \\\n",
      "0                                0                             0   \n",
      "1                                0                             0   \n",
      "2                                0                             0   \n",
      "3                                0                             0   \n",
      "4                                0                             0   \n",
      "\n",
      "   Des_ SET 2 TEA TOWELS I LOVE LONDON   Des_ TRELLIS COAT RACK  \\\n",
      "0                                     0                       0   \n",
      "1                                     0                       0   \n",
      "2                                     0                       0   \n",
      "3                                     0                       0   \n",
      "4                                     0                       0   \n",
      "\n",
      "   Des_10 COLOUR SPACEBOY PEN  Des_12 COLOURED PARTY BALLOONS  ...  \\\n",
      "0                           0                               0  ...   \n",
      "1                           0                               0  ...   \n",
      "2                           0                               0  ...   \n",
      "3                           0                               0  ...   \n",
      "4                           0                               0  ...   \n",
      "\n",
      "   Des_ZINC PLANT POT HOLDER  Des_ZINC STAR T-LIGHT HOLDER   \\\n",
      "0                          0                              0   \n",
      "1                          0                              0   \n",
      "2                          0                              0   \n",
      "3                          0                              0   \n",
      "4                          0                              0   \n",
      "\n",
      "   Des_ZINC SWEETHEART SOAP DISH  Des_ZINC SWEETHEART WIRE LETTER RACK  \\\n",
      "0                              0                                     0   \n",
      "1                              0                                     0   \n",
      "2                              0                                     0   \n",
      "3                              0                                     0   \n",
      "4                              0                                     0   \n",
      "\n",
      "   Des_ZINC T-LIGHT HOLDER STAR LARGE  Des_ZINC T-LIGHT HOLDER STARS LARGE  \\\n",
      "0                                   0                                    0   \n",
      "1                                   0                                    0   \n",
      "2                                   0                                    0   \n",
      "3                                   0                                    0   \n",
      "4                                   0                                    0   \n",
      "\n",
      "   Des_ZINC T-LIGHT HOLDER STARS SMALL  Des_ZINC WILLIE WINKIE  CANDLE STICK  \\\n",
      "0                                    0                                     0   \n",
      "1                                    0                                     0   \n",
      "2                                    0                                     0   \n",
      "3                                    0                                     0   \n",
      "4                                    0                                     0   \n",
      "\n",
      "   Des_ZINC WIRE KITCHEN ORGANISER  Des_ZINC WIRE SWEETHEART LETTER TRAY  \n",
      "0                                0                                     0  \n",
      "1                                0                                     0  \n",
      "2                                0                                     0  \n",
      "3                                0                                     0  \n",
      "4                                0                                     0  \n",
      "\n",
      "[5 rows x 3556 columns]\n"
     ]
    }
   ],
   "source": [
    "category_feature=pd.get_dummies(df['Description'],prefix='Des',prefix_sep='_',drop_first=True)\n",
    "print(category_feature.head())\n",
    "dfreal1=pd.concat([df,category_feature],axis=1)"
   ]
  },
  {
   "cell_type": "code",
   "execution_count": 18,
   "id": "f77e1784",
   "metadata": {
    "execution": {
     "iopub.execute_input": "2024-03-17T19:12:29.986995Z",
     "iopub.status.busy": "2024-03-17T19:12:29.986604Z",
     "iopub.status.idle": "2024-03-17T19:12:32.812059Z",
     "shell.execute_reply": "2024-03-17T19:12:32.810876Z",
     "shell.execute_reply.started": "2024-03-17T19:12:29.986966Z"
    }
   },
   "outputs": [
    {
     "name": "stdout",
     "output_type": "stream",
     "text": [
      "   Total  H_7  H_8  H_9  H_10  H_11  H_12  H_13  H_14  H_15  ...  \\\n",
      "0  15.30    0    1    0     0     0     0     0     0     0  ...   \n",
      "1  20.34    0    1    0     0     0     0     0     0     0  ...   \n",
      "2  22.00    0    1    0     0     0     0     0     0     0  ...   \n",
      "3  20.34    0    1    0     0     0     0     0     0     0  ...   \n",
      "4  20.34    0    1    0     0     0     0     0     0     0  ...   \n",
      "\n",
      "   Des_ZINC PLANT POT HOLDER  Des_ZINC STAR T-LIGHT HOLDER   \\\n",
      "0                          0                              0   \n",
      "1                          0                              0   \n",
      "2                          0                              0   \n",
      "3                          0                              0   \n",
      "4                          0                              0   \n",
      "\n",
      "   Des_ZINC SWEETHEART SOAP DISH  Des_ZINC SWEETHEART WIRE LETTER RACK  \\\n",
      "0                              0                                     0   \n",
      "1                              0                                     0   \n",
      "2                              0                                     0   \n",
      "3                              0                                     0   \n",
      "4                              0                                     0   \n",
      "\n",
      "   Des_ZINC T-LIGHT HOLDER STAR LARGE  Des_ZINC T-LIGHT HOLDER STARS LARGE  \\\n",
      "0                                   0                                    0   \n",
      "1                                   0                                    0   \n",
      "2                                   0                                    0   \n",
      "3                                   0                                    0   \n",
      "4                                   0                                    0   \n",
      "\n",
      "   Des_ZINC T-LIGHT HOLDER STARS SMALL  Des_ZINC WILLIE WINKIE  CANDLE STICK  \\\n",
      "0                                    0                                     0   \n",
      "1                                    0                                     0   \n",
      "2                                    0                                     0   \n",
      "3                                    0                                     0   \n",
      "4                                    0                                     0   \n",
      "\n",
      "   Des_ZINC WIRE KITCHEN ORGANISER  Des_ZINC WIRE SWEETHEART LETTER TRAY  \n",
      "0                                0                                     0  \n",
      "1                                0                                     0  \n",
      "2                                0                                     0  \n",
      "3                                0                                     0  \n",
      "4                                0                                     0  \n",
      "\n",
      "[5 rows x 3588 columns]\n",
      "Index(['Total', 'H_7', 'H_8', 'H_9', 'H_10', 'H_11', 'H_12', 'H_13', 'H_14',\n",
      "       'H_15',\n",
      "       ...\n",
      "       'Des_ZINC PLANT POT HOLDER', 'Des_ZINC STAR T-LIGHT HOLDER ',\n",
      "       'Des_ZINC SWEETHEART SOAP DISH', 'Des_ZINC SWEETHEART WIRE LETTER RACK',\n",
      "       'Des_ZINC T-LIGHT HOLDER STAR LARGE',\n",
      "       'Des_ZINC T-LIGHT HOLDER STARS LARGE',\n",
      "       'Des_ZINC T-LIGHT HOLDER STARS SMALL',\n",
      "       'Des_ZINC WILLIE WINKIE  CANDLE STICK',\n",
      "       'Des_ZINC WIRE KITCHEN ORGANISER',\n",
      "       'Des_ZINC WIRE SWEETHEART LETTER TRAY'],\n",
      "      dtype='object', length=3588)\n"
     ]
    }
   ],
   "source": [
    "dfreal1.head()\n",
    "dfreal2=dfreal1.drop(['Description'],axis=1)\n",
    "print(dfreal2.head())\n",
    "df=dfreal2.copy()\n",
    "print(df.columns)"
   ]
  },
  {
   "cell_type": "code",
   "execution_count": 19,
   "id": "3a5bf27f",
   "metadata": {
    "execution": {
     "iopub.execute_input": "2024-03-17T19:12:32.814880Z",
     "iopub.status.busy": "2024-03-17T19:12:32.814544Z",
     "iopub.status.idle": "2024-03-17T19:12:33.290763Z",
     "shell.execute_reply": "2024-03-17T19:12:33.289368Z",
     "shell.execute_reply.started": "2024-03-17T19:12:32.814844Z"
    }
   },
   "outputs": [],
   "source": [
    "df=df.reset_index()"
   ]
  },
  {
   "cell_type": "markdown",
   "id": "6eed06b5",
   "metadata": {},
   "source": [
    "## The dataset is huge and as a result it is taking a lot of time and resources. If you want to run the code on the full dataset comment out df=df.sample(frac=0.05)"
   ]
  },
  {
   "cell_type": "code",
   "execution_count": 20,
   "id": "cdda2b9e",
   "metadata": {
    "execution": {
     "iopub.execute_input": "2024-03-17T19:12:33.292993Z",
     "iopub.status.busy": "2024-03-17T19:12:33.292051Z",
     "iopub.status.idle": "2024-03-17T19:12:33.803393Z",
     "shell.execute_reply": "2024-03-17T19:12:33.802075Z",
     "shell.execute_reply.started": "2024-03-17T19:12:33.292958Z"
    }
   },
   "outputs": [
    {
     "name": "stdout",
     "output_type": "stream",
     "text": [
      "The history saving thread hit an unexpected error (OperationalError('disk I/O error')).History will not be written to the database.\n"
     ]
    }
   ],
   "source": [
    "df.head()\n",
    "df=df.sample(frac=0.05)\n",
    "df=df.reset_index()\n",
    "target=df['Total']\n",
    "df.drop(['Total'],axis=1,inplace=True)"
   ]
  },
  {
   "cell_type": "code",
   "execution_count": 21,
   "id": "f995413c",
   "metadata": {
    "execution": {
     "iopub.execute_input": "2024-03-17T19:24:50.186220Z",
     "iopub.status.busy": "2024-03-17T19:24:50.185713Z",
     "iopub.status.idle": "2024-03-17T19:24:50.342980Z",
     "shell.execute_reply": "2024-03-17T19:24:50.341644Z",
     "shell.execute_reply.started": "2024-03-17T19:24:50.186187Z"
    }
   },
   "outputs": [],
   "source": [
    "df = df.astype(int)"
   ]
  },
  {
   "cell_type": "markdown",
   "id": "d586f451",
   "metadata": {},
   "source": [
    "## Split the dataset to train and test set"
   ]
  },
  {
   "cell_type": "code",
   "execution_count": null,
   "id": "6633a842",
   "metadata": {
    "execution": {
     "iopub.execute_input": "2024-03-17T19:30:12.804060Z",
     "iopub.status.busy": "2024-03-17T19:30:12.802929Z",
     "iopub.status.idle": "2024-03-17T19:30:13.132948Z",
     "shell.execute_reply": "2024-03-17T19:30:13.131700Z",
     "shell.execute_reply.started": "2024-03-17T19:30:12.804022Z"
    }
   },
   "outputs": [],
   "source": [
    "from sklearn.model_selection import train_test_split\n",
    "X_train, X_test, y_train, y_test = train_test_split(df,target, test_size=0.3, random_state=42)\n",
    "\n",
    "  # Output: 0.49244"
   ]
  },
  {
   "cell_type": "code",
   "execution_count": null,
   "id": "777017a5",
   "metadata": {
    "execution": {
     "iopub.execute_input": "2024-03-17T19:30:13.912169Z",
     "iopub.status.busy": "2024-03-17T19:30:13.911022Z",
     "iopub.status.idle": "2024-03-17T19:30:14.029347Z",
     "shell.execute_reply": "2024-03-17T19:30:14.028047Z",
     "shell.execute_reply.started": "2024-03-17T19:30:13.912123Z"
    }
   },
   "outputs": [],
   "source": [
    "X_train.drop(columns=['level_0', 'index'], inplace=True)"
   ]
  },
  {
   "cell_type": "code",
   "execution_count": null,
   "id": "2aec5c00",
   "metadata": {
    "execution": {
     "iopub.execute_input": "2024-03-17T19:30:15.844620Z",
     "iopub.status.busy": "2024-03-17T19:30:15.843848Z",
     "iopub.status.idle": "2024-03-17T19:30:16.054749Z",
     "shell.execute_reply": "2024-03-17T19:30:16.053756Z",
     "shell.execute_reply.started": "2024-03-17T19:30:15.844573Z"
    }
   },
   "outputs": [],
   "source": [
    "X_train = X_train.reset_index(drop=True)\n",
    "\n",
    "X_train = X_train.values\n",
    "y_train = y_train.values"
   ]
  },
  {
   "cell_type": "code",
   "execution_count": null,
   "id": "43af44be",
   "metadata": {
    "execution": {
     "iopub.execute_input": "2024-03-17T19:30:17.036957Z",
     "iopub.status.busy": "2024-03-17T19:30:17.036318Z",
     "iopub.status.idle": "2024-03-17T19:30:17.044988Z",
     "shell.execute_reply": "2024-03-17T19:30:17.043678Z",
     "shell.execute_reply.started": "2024-03-17T19:30:17.036922Z"
    }
   },
   "outputs": [],
   "source": [
    "X_train"
   ]
  },
  {
   "cell_type": "code",
   "execution_count": null,
   "id": "eb3746c1",
   "metadata": {
    "execution": {
     "iopub.execute_input": "2024-03-17T19:30:18.246864Z",
     "iopub.status.busy": "2024-03-17T19:30:18.246386Z",
     "iopub.status.idle": "2024-03-17T19:30:18.256510Z",
     "shell.execute_reply": "2024-03-17T19:30:18.255161Z",
     "shell.execute_reply.started": "2024-03-17T19:30:18.246828Z"
    }
   },
   "outputs": [],
   "source": [
    "y_train"
   ]
  },
  {
   "cell_type": "code",
   "execution_count": null,
   "id": "4322b2c6",
   "metadata": {},
   "outputs": [],
   "source": [
    "X_test.drop(columns=['level_0', 'index'], inplace=True)\n",
    "X_test = X_test.reset_index(drop=True)\n",
    "\n",
    "X_test = X_test.values\n",
    "y_test = y_test.values"
   ]
  },
  {
   "cell_type": "markdown",
   "id": "e4097c9f",
   "metadata": {},
   "source": [
    "## Fit the custom RandomForest on the dataset"
   ]
  },
  {
   "cell_type": "code",
   "execution_count": null,
   "id": "7d2a2694",
   "metadata": {
    "execution": {
     "iopub.execute_input": "2024-03-17T19:30:54.652055Z",
     "iopub.status.busy": "2024-03-17T19:30:54.651640Z"
    }
   },
   "outputs": [],
   "source": [
    "# Create an instance of RandomForestRegressor621\n",
    "random_forest = RandomForestRegressor621(n_estimators=3, min_samples_leaf=15, max_features=0.3, oob_score=True)\n",
    "\n",
    "# Fit the model to the training data\n",
    "random_forest.fit(X_train, y_train)\n",
    "\n",
    "# Make predictions on new data\n",
    "predictions = random_forest.predict(X_test)\n",
    "\n",
    "# Calculate the R^2 score for the predictions\n",
    "r2_score = random_forest.score(X_test, y_test)\n",
    "print(r2_score)  "
   ]
  },
  {
   "cell_type": "code",
   "execution_count": null,
   "id": "dfee1421",
   "metadata": {},
   "outputs": [],
   "source": []
  },
  {
   "cell_type": "code",
   "execution_count": null,
   "id": "b51edf01",
   "metadata": {},
   "outputs": [],
   "source": [
    "# from sklearn.model_selection import train_test_split\n",
    "# X_train, X_test, y_train, y_test = train_test_split(df,target, test_size=0.3, random_state=42)"
   ]
  },
  {
   "cell_type": "code",
   "execution_count": null,
   "id": "d508de02",
   "metadata": {
    "execution": {
     "iopub.status.busy": "2024-03-17T19:12:35.937686Z",
     "iopub.status.idle": "2024-03-17T19:12:35.938665Z",
     "shell.execute_reply": "2024-03-17T19:12:35.938390Z",
     "shell.execute_reply.started": "2024-03-17T19:12:35.938363Z"
    }
   },
   "outputs": [],
   "source": [
    "# from sklearn.ensemble import RandomForestRegressor\n",
    "# sklearn_rf = RandomForestRegressor(n_estimators=3, min_samples_leaf=15, max_features=0.3, oob_score=True)\n",
    "\n",
    "# # Fit the scikit-learn model to the training data\n",
    "# sklearn_rf.fit(X_train, y_train)\n",
    "\n",
    "# # Make predictions using the scikit-learn model\n",
    "# sklearn_predictions = sklearn_rf.predict(X_test)\n",
    "\n",
    "# # Calculate the R^2 score for the scikit-learn predictions\n",
    "# sklearn_r2_score = sklearn_rf.score(X_test, y_test)\n",
    "# print(sklearn_r2_score) "
   ]
  },
  {
   "cell_type": "code",
   "execution_count": null,
   "id": "10b2659a",
   "metadata": {},
   "outputs": [],
   "source": [
    "# %reset -f"
   ]
  },
  {
   "cell_type": "code",
   "execution_count": null,
   "id": "cf1ccddf",
   "metadata": {},
   "outputs": [],
   "source": [
    "# from IPython.display import clear_output\n",
    "# clear_output(wait=True)"
   ]
  },
  {
   "cell_type": "code",
   "execution_count": null,
   "id": "5dbb9a5f",
   "metadata": {},
   "outputs": [],
   "source": [
    "# import gc\n",
    "# gc.collect()"
   ]
  },
  {
   "cell_type": "code",
   "execution_count": null,
   "id": "4fb7c84f",
   "metadata": {},
   "outputs": [],
   "source": []
  }
 ],
 "metadata": {
  "kaggle": {
   "accelerator": "none",
   "dataSources": [
    {
     "datasetId": 3631532,
     "sourceId": 6311832,
     "sourceType": "datasetVersion"
    }
   ],
   "dockerImageVersionId": 30664,
   "isGpuEnabled": false,
   "isInternetEnabled": true,
   "language": "python",
   "sourceType": "notebook"
  },
  "kernelspec": {
   "display_name": "Python 3 (ipykernel)",
   "language": "python",
   "name": "python3"
  },
  "language_info": {
   "codemirror_mode": {
    "name": "ipython",
    "version": 3
   },
   "file_extension": ".py",
   "mimetype": "text/x-python",
   "name": "python",
   "nbconvert_exporter": "python",
   "pygments_lexer": "ipython3",
   "version": "3.10.9"
  }
 },
 "nbformat": 4,
 "nbformat_minor": 5
}
