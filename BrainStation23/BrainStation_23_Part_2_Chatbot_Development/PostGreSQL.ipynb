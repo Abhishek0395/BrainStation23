{
 "cells": [
  {
   "cell_type": "markdown",
   "id": "844c12f5",
   "metadata": {},
   "source": [
    "## Here I am reading the dataset csv file"
   ]
  },
  {
   "cell_type": "code",
   "execution_count": 1,
   "id": "7eae1674",
   "metadata": {},
   "outputs": [
    {
     "name": "stdout",
     "output_type": "stream",
     "text": [
      "  InvoiceNo StockCode                          Description  Quantity  \\\n",
      "0    536365    85123A   WHITE HANGING HEART T-LIGHT HOLDER         6   \n",
      "1    536365     71053                  WHITE METAL LANTERN         6   \n",
      "2    536365    84406B       CREAM CUPID HEARTS COAT HANGER         8   \n",
      "3    536365    84029G  KNITTED UNION FLAG HOT WATER BOTTLE         6   \n",
      "4    536365    84029E       RED WOOLLY HOTTIE WHITE HEART.         6   \n",
      "\n",
      "      InvoiceDate  UnitPrice  CustomerID         Country  \n",
      "0  1/12/2010 8:26       2.55     17850.0  United Kingdom  \n",
      "1  1/12/2010 8:26       3.39     17850.0  United Kingdom  \n",
      "2  1/12/2010 8:26       2.75     17850.0  United Kingdom  \n",
      "3  1/12/2010 8:26       3.39     17850.0  United Kingdom  \n",
      "4  1/12/2010 8:26       3.39     17850.0  United Kingdom  \n"
     ]
    }
   ],
   "source": [
    "import pandas as pd\n",
    "import matplotlib.pyplot as plt\n",
    "import seaborn as sns\n",
    "import numpy as np\n",
    "from datetime import datetime\n",
    "\n",
    "\n",
    "    \n",
    "df = pd.read_csv(\"C:\\\\Users\\\\hp\\\\Desktop\\\\Online_Retail_Data_Set.csv\",encoding='unicode_escape')\n",
    "print(df.head())\n"
   ]
  },
  {
   "cell_type": "markdown",
   "id": "33f5a4c4",
   "metadata": {},
   "source": [
    "## Preprocessing  and creating a list of unique tuples of CustomerID and Country"
   ]
  },
  {
   "cell_type": "code",
   "execution_count": 2,
   "id": "3638cfdf",
   "metadata": {},
   "outputs": [
    {
     "name": "stdout",
     "output_type": "stream",
     "text": [
      "(14423, 'United Kingdom')\n"
     ]
    }
   ],
   "source": [
    "df = df.drop_duplicates()\n",
    "df['Description'] = df['Description'].fillna(\"Unknown\")\n",
    "df= df.dropna()\n",
    "df['InvoiceDate'] = pd.to_datetime(df['InvoiceDate'])\n",
    "df=df[df['UnitPrice'] > 0]\n",
    "df=df[df['Quantity'] > 0]\n",
    "df=df[~df['Description'].str.contains('Adjust bad debt',case=False)]\n",
    "lis1=[]\n",
    "df['CustomerID']=df['CustomerID'].astype(int)\n",
    "tuples_list1 = [tuple(row) for index, row in df[['CustomerID','Country']].iterrows()]\n",
    "lis1=list(set(tuples_list1))\n",
    "print(lis1[0])"
   ]
  },
  {
   "cell_type": "markdown",
   "id": "76d3b894",
   "metadata": {},
   "source": [
    "## Creating a list of unique tuples of StockCode and Description"
   ]
  },
  {
   "cell_type": "code",
   "execution_count": 3,
   "id": "fce74e30",
   "metadata": {},
   "outputs": [],
   "source": [
    "lis2=[]\n",
    "tuples_list2 = [tuple(row) for index, row in df[['StockCode','Description']].iterrows()]\n",
    "lis2=list(set(tuples_list2))"
   ]
  },
  {
   "cell_type": "markdown",
   "id": "59795dcb",
   "metadata": {},
   "source": [
    "## Creating a list of unique tuples of InvoiceNo,Quantity,UnitPrice,CustomerID,StockCode,InvoiceDate"
   ]
  },
  {
   "cell_type": "code",
   "execution_count": 4,
   "id": "795971f6",
   "metadata": {},
   "outputs": [
    {
     "name": "stdout",
     "output_type": "stream",
     "text": [
      "392690\n"
     ]
    }
   ],
   "source": [
    "lis3=[]\n",
    "tuples_list3 = [tuple(row) for index, row in df[['InvoiceNo','Quantity','UnitPrice','CustomerID','StockCode','InvoiceDate']].iterrows()]\n",
    "lis3=list(set(tuples_list3))\n",
    "print(len(lis3))"
   ]
  },
  {
   "cell_type": "markdown",
   "id": "c1a91e22",
   "metadata": {},
   "source": [
    "## Connecting to postgres database"
   ]
  },
  {
   "cell_type": "code",
   "execution_count": 5,
   "id": "3fab989c",
   "metadata": {},
   "outputs": [],
   "source": [
    "import psycopg2\n",
    "\n",
    "hostname='localhost'\n",
    "username='postgres'\n",
    "database='postgres'\n",
    "pwd='abhi0395'\n",
    "port_id=5432\n",
    "conn=None\n",
    "cur=None"
   ]
  },
  {
   "cell_type": "markdown",
   "id": "a19a2128",
   "metadata": {},
   "source": [
    "## Tried to insert the dataset to the postgres database. The tables are created perfectly with each of its variable and constraits.However getting an error when trying to populate it with information."
   ]
  },
  {
   "cell_type": "code",
   "execution_count": 6,
   "id": "6f61b635",
   "metadata": {},
   "outputs": [
    {
     "name": "stdout",
     "output_type": "stream",
     "text": [
      "Ab\n",
      "duplicate key value violates unique constraint \"customers_pkey\"\n",
      "DETAIL:  Key (customer_id)=(12457) already exists.\n",
      "\n"
     ]
    }
   ],
   "source": [
    "try:\n",
    "    conn=psycopg2.connect(\n",
    "            host=hostname,\n",
    "            dbname=database,\n",
    "            user=username,\n",
    "            password=pwd,\n",
    "            port=port_id\n",
    "    )\n",
    "    cur = conn.cursor()\n",
    "    create_script1='''  CREATE TABLE  IF NOT EXISTS Customers(\n",
    "      Customer_Id INT PRIMARY KEY,\n",
    "      Country varchar(40)\n",
    "      );'''\n",
    "    create_script2='''CREATE TABLE  IF NOT EXISTS Stocks(\n",
    "      Stock_Id INT PRIMARY KEY,\n",
    "      Description varchar(40)\n",
    "      );'''\n",
    "    create_script3='''CREATE TABLE  IF NOT EXISTS Invoice(\n",
    "      Invoice_Id INT PRIMARY KEY,\n",
    "      Quantity INT,\n",
    "      Unit_Price INT,\n",
    "      Customer_Id INT,\n",
    "      Stock_Id INT ,\n",
    "      Invoice_Date Date,\n",
    "      FOREIGN KEY(Customer_Id) REFERENCES Customers(Customer_Id),\n",
    "      FOREIGN KEY(Stock_Id) REFERENCES Stocks(Stock_Id)\n",
    "      );'''\n",
    "    #cur.execute(create_script1)\n",
    "    insert_script1='INSERT INTO Customers(Customer_Id,Country) VALUES(%s,%s)'\n",
    "    insert_value1=lis1\n",
    "    i=0\n",
    "    for obj in insert_value1:\n",
    "        if i==0:\n",
    "            i=i+1\n",
    "            continue\n",
    "        cur.execute(insert_script1,(obj[0],obj[1]))\n",
    "    conn.commit()\n",
    "#     insert_script2='INSERT INTO Stocks(Stock_Id,Description) VALUES(%s,%s)'\n",
    "    \n",
    "#     insert_script3='INSERT INTO Invoice(Invoice_Id,Quantity,Unit_Price,Customer_Id,Invoice_Date) VALUES(%s,%s)'\n",
    "except Exception as error:\n",
    "    print(\"Ab\")\n",
    "    print(error)\n",
    "finally:\n",
    "    if cur is not None:\n",
    "        cur.close()\n",
    "    if conn is not None:\n",
    "        conn.close()"
   ]
  },
  {
   "cell_type": "code",
   "execution_count": null,
   "id": "f5208848",
   "metadata": {},
   "outputs": [],
   "source": []
  }
 ],
 "metadata": {
  "kernelspec": {
   "display_name": "Python 3 (ipykernel)",
   "language": "python",
   "name": "python3"
  },
  "language_info": {
   "codemirror_mode": {
    "name": "ipython",
    "version": 3
   },
   "file_extension": ".py",
   "mimetype": "text/x-python",
   "name": "python",
   "nbconvert_exporter": "python",
   "pygments_lexer": "ipython3",
   "version": "3.10.9"
  }
 },
 "nbformat": 4,
 "nbformat_minor": 5
}
